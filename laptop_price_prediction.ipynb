{
 "cells": [
  {
   "attachments": {},
   "cell_type": "markdown",
   "metadata": {},
   "source": [
    "# laptop Pricing: Cleaning Data in Python\n",
    "\n",
    "This dataset is a collection of features related to various laptops, such as brand, processor type, RAM, storage capacity and other specifications. The dataset also includes the corresponding prices of these laptops. This dataset can be used for regression analysis to predict the prices of laptops based on their features.\n",
    "\n",
    "Project Goal: Cleaning  the dataset"
   ]
  },
  {
   "attachments": {},
   "cell_type": "markdown",
   "metadata": {},
   "source": [
    "## 1. Download Libraries"
   ]
  },
  {
   "cell_type": "code",
   "execution_count": 78,
   "metadata": {},
   "outputs": [],
   "source": [
    "import numpy as np\n",
    "import pandas as pd\n",
    "import matplotlib.pyplot as plt\n",
    "import seaborn as sns\n",
    "%matplotlib inline\n",
    "from matplotlib import pyplot\n"
   ]
  },
  {
   "cell_type": "markdown",
   "metadata": {},
   "source": [
    "## 2. Import Dataset"
   ]
  },
  {
   "cell_type": "code",
   "execution_count": 11,
   "metadata": {},
   "outputs": [],
   "source": [
    "df = pd.read_csv('laptop_pricing_dataset.csv')\n"
   ]
  },
  {
   "cell_type": "code",
   "execution_count": 12,
   "metadata": {},
   "outputs": [
    {
     "data": {
      "text/html": [
       "<div>\n",
       "<style scoped>\n",
       "    .dataframe tbody tr th:only-of-type {\n",
       "        vertical-align: middle;\n",
       "    }\n",
       "\n",
       "    .dataframe tbody tr th {\n",
       "        vertical-align: top;\n",
       "    }\n",
       "\n",
       "    .dataframe thead th {\n",
       "        text-align: right;\n",
       "    }\n",
       "</style>\n",
       "<table border=\"1\" class=\"dataframe\">\n",
       "  <thead>\n",
       "    <tr style=\"text-align: right;\">\n",
       "      <th></th>\n",
       "      <th>Unnamed: 0</th>\n",
       "      <th>Manufacturer</th>\n",
       "      <th>Category</th>\n",
       "      <th>Screen</th>\n",
       "      <th>GPU</th>\n",
       "      <th>OS</th>\n",
       "      <th>CPU_core</th>\n",
       "      <th>Screen_Size_cm</th>\n",
       "      <th>CPU_frequency</th>\n",
       "      <th>RAM_GB</th>\n",
       "      <th>Storage_GB_SSD</th>\n",
       "      <th>Weight_kg</th>\n",
       "      <th>Price</th>\n",
       "    </tr>\n",
       "  </thead>\n",
       "  <tbody>\n",
       "    <tr>\n",
       "      <th>0</th>\n",
       "      <td>0</td>\n",
       "      <td>Acer</td>\n",
       "      <td>4</td>\n",
       "      <td>IPS Panel</td>\n",
       "      <td>2</td>\n",
       "      <td>1</td>\n",
       "      <td>5</td>\n",
       "      <td>35.560</td>\n",
       "      <td>1.6</td>\n",
       "      <td>8</td>\n",
       "      <td>256</td>\n",
       "      <td>1.60</td>\n",
       "      <td>978</td>\n",
       "    </tr>\n",
       "    <tr>\n",
       "      <th>1</th>\n",
       "      <td>1</td>\n",
       "      <td>Dell</td>\n",
       "      <td>3</td>\n",
       "      <td>Full HD</td>\n",
       "      <td>1</td>\n",
       "      <td>1</td>\n",
       "      <td>3</td>\n",
       "      <td>39.624</td>\n",
       "      <td>2.0</td>\n",
       "      <td>4</td>\n",
       "      <td>256</td>\n",
       "      <td>2.20</td>\n",
       "      <td>634</td>\n",
       "    </tr>\n",
       "    <tr>\n",
       "      <th>2</th>\n",
       "      <td>2</td>\n",
       "      <td>Dell</td>\n",
       "      <td>3</td>\n",
       "      <td>Full HD</td>\n",
       "      <td>1</td>\n",
       "      <td>1</td>\n",
       "      <td>7</td>\n",
       "      <td>39.624</td>\n",
       "      <td>2.7</td>\n",
       "      <td>8</td>\n",
       "      <td>256</td>\n",
       "      <td>2.20</td>\n",
       "      <td>946</td>\n",
       "    </tr>\n",
       "    <tr>\n",
       "      <th>3</th>\n",
       "      <td>3</td>\n",
       "      <td>Dell</td>\n",
       "      <td>4</td>\n",
       "      <td>IPS Panel</td>\n",
       "      <td>2</td>\n",
       "      <td>1</td>\n",
       "      <td>5</td>\n",
       "      <td>33.782</td>\n",
       "      <td>1.6</td>\n",
       "      <td>8</td>\n",
       "      <td>128</td>\n",
       "      <td>1.22</td>\n",
       "      <td>1244</td>\n",
       "    </tr>\n",
       "    <tr>\n",
       "      <th>4</th>\n",
       "      <td>4</td>\n",
       "      <td>HP</td>\n",
       "      <td>4</td>\n",
       "      <td>Full HD</td>\n",
       "      <td>2</td>\n",
       "      <td>1</td>\n",
       "      <td>7</td>\n",
       "      <td>39.624</td>\n",
       "      <td>1.8</td>\n",
       "      <td>8</td>\n",
       "      <td>256</td>\n",
       "      <td>1.91</td>\n",
       "      <td>837</td>\n",
       "    </tr>\n",
       "  </tbody>\n",
       "</table>\n",
       "</div>"
      ],
      "text/plain": [
       "   Unnamed: 0 Manufacturer  Category     Screen  GPU  OS  CPU_core  \\\n",
       "0           0         Acer         4  IPS Panel    2   1         5   \n",
       "1           1         Dell         3    Full HD    1   1         3   \n",
       "2           2         Dell         3    Full HD    1   1         7   \n",
       "3           3         Dell         4  IPS Panel    2   1         5   \n",
       "4           4           HP         4    Full HD    2   1         7   \n",
       "\n",
       "   Screen_Size_cm  CPU_frequency  RAM_GB  Storage_GB_SSD  Weight_kg  Price  \n",
       "0          35.560            1.6       8             256       1.60    978  \n",
       "1          39.624            2.0       4             256       2.20    634  \n",
       "2          39.624            2.7       8             256       2.20    946  \n",
       "3          33.782            1.6       8             128       1.22   1244  \n",
       "4          39.624            1.8       8             256       1.91    837  "
      ]
     },
     "execution_count": 12,
     "metadata": {},
     "output_type": "execute_result"
    }
   ],
   "source": [
    "#display the first five rows of the data\n",
    "df.head()"
   ]
  },
  {
   "cell_type": "code",
   "execution_count": 13,
   "metadata": {},
   "outputs": [],
   "source": [
    "# update the Screen_size_cm column such that all values are rounded to nearest 2 decimal places:\n",
    "df['Screen_Size_cm'] = np.round(df['Screen_Size_cm'],2)"
   ]
  },
  {
   "cell_type": "code",
   "execution_count": 14,
   "metadata": {},
   "outputs": [
    {
     "data": {
      "text/html": [
       "<div>\n",
       "<style scoped>\n",
       "    .dataframe tbody tr th:only-of-type {\n",
       "        vertical-align: middle;\n",
       "    }\n",
       "\n",
       "    .dataframe tbody tr th {\n",
       "        vertical-align: top;\n",
       "    }\n",
       "\n",
       "    .dataframe thead th {\n",
       "        text-align: right;\n",
       "    }\n",
       "</style>\n",
       "<table border=\"1\" class=\"dataframe\">\n",
       "  <thead>\n",
       "    <tr style=\"text-align: right;\">\n",
       "      <th></th>\n",
       "      <th>Unnamed: 0</th>\n",
       "      <th>Manufacturer</th>\n",
       "      <th>Category</th>\n",
       "      <th>Screen</th>\n",
       "      <th>GPU</th>\n",
       "      <th>OS</th>\n",
       "      <th>CPU_core</th>\n",
       "      <th>Screen_Size_cm</th>\n",
       "      <th>CPU_frequency</th>\n",
       "      <th>RAM_GB</th>\n",
       "      <th>Storage_GB_SSD</th>\n",
       "      <th>Weight_kg</th>\n",
       "      <th>Price</th>\n",
       "    </tr>\n",
       "  </thead>\n",
       "  <tbody>\n",
       "    <tr>\n",
       "      <th>0</th>\n",
       "      <td>0</td>\n",
       "      <td>Acer</td>\n",
       "      <td>4</td>\n",
       "      <td>IPS Panel</td>\n",
       "      <td>2</td>\n",
       "      <td>1</td>\n",
       "      <td>5</td>\n",
       "      <td>35.56</td>\n",
       "      <td>1.6</td>\n",
       "      <td>8</td>\n",
       "      <td>256</td>\n",
       "      <td>1.60</td>\n",
       "      <td>978</td>\n",
       "    </tr>\n",
       "    <tr>\n",
       "      <th>1</th>\n",
       "      <td>1</td>\n",
       "      <td>Dell</td>\n",
       "      <td>3</td>\n",
       "      <td>Full HD</td>\n",
       "      <td>1</td>\n",
       "      <td>1</td>\n",
       "      <td>3</td>\n",
       "      <td>39.62</td>\n",
       "      <td>2.0</td>\n",
       "      <td>4</td>\n",
       "      <td>256</td>\n",
       "      <td>2.20</td>\n",
       "      <td>634</td>\n",
       "    </tr>\n",
       "    <tr>\n",
       "      <th>2</th>\n",
       "      <td>2</td>\n",
       "      <td>Dell</td>\n",
       "      <td>3</td>\n",
       "      <td>Full HD</td>\n",
       "      <td>1</td>\n",
       "      <td>1</td>\n",
       "      <td>7</td>\n",
       "      <td>39.62</td>\n",
       "      <td>2.7</td>\n",
       "      <td>8</td>\n",
       "      <td>256</td>\n",
       "      <td>2.20</td>\n",
       "      <td>946</td>\n",
       "    </tr>\n",
       "    <tr>\n",
       "      <th>3</th>\n",
       "      <td>3</td>\n",
       "      <td>Dell</td>\n",
       "      <td>4</td>\n",
       "      <td>IPS Panel</td>\n",
       "      <td>2</td>\n",
       "      <td>1</td>\n",
       "      <td>5</td>\n",
       "      <td>33.78</td>\n",
       "      <td>1.6</td>\n",
       "      <td>8</td>\n",
       "      <td>128</td>\n",
       "      <td>1.22</td>\n",
       "      <td>1244</td>\n",
       "    </tr>\n",
       "    <tr>\n",
       "      <th>4</th>\n",
       "      <td>4</td>\n",
       "      <td>HP</td>\n",
       "      <td>4</td>\n",
       "      <td>Full HD</td>\n",
       "      <td>2</td>\n",
       "      <td>1</td>\n",
       "      <td>7</td>\n",
       "      <td>39.62</td>\n",
       "      <td>1.8</td>\n",
       "      <td>8</td>\n",
       "      <td>256</td>\n",
       "      <td>1.91</td>\n",
       "      <td>837</td>\n",
       "    </tr>\n",
       "  </tbody>\n",
       "</table>\n",
       "</div>"
      ],
      "text/plain": [
       "   Unnamed: 0 Manufacturer  Category     Screen  GPU  OS  CPU_core  \\\n",
       "0           0         Acer         4  IPS Panel    2   1         5   \n",
       "1           1         Dell         3    Full HD    1   1         3   \n",
       "2           2         Dell         3    Full HD    1   1         7   \n",
       "3           3         Dell         4  IPS Panel    2   1         5   \n",
       "4           4           HP         4    Full HD    2   1         7   \n",
       "\n",
       "   Screen_Size_cm  CPU_frequency  RAM_GB  Storage_GB_SSD  Weight_kg  Price  \n",
       "0           35.56            1.6       8             256       1.60    978  \n",
       "1           39.62            2.0       4             256       2.20    634  \n",
       "2           39.62            2.7       8             256       2.20    946  \n",
       "3           33.78            1.6       8             128       1.22   1244  \n",
       "4           39.62            1.8       8             256       1.91    837  "
      ]
     },
     "execution_count": 14,
     "metadata": {},
     "output_type": "execute_result"
    }
   ],
   "source": [
    "#check the result\n",
    "df.head()"
   ]
  },
  {
   "cell_type": "markdown",
   "metadata": {},
   "source": [
    "## 3. Identify and handle missing value\n"
   ]
  },
  {
   "cell_type": "code",
   "execution_count": 17,
   "metadata": {},
   "outputs": [
    {
     "data": {
      "text/plain": [
       "Unnamed: 0        0\n",
       "Manufacturer      0\n",
       "Category          0\n",
       "Screen            0\n",
       "GPU               0\n",
       "OS                0\n",
       "CPU_core          0\n",
       "Screen_Size_cm    4\n",
       "CPU_frequency     0\n",
       "RAM_GB            0\n",
       "Storage_GB_SSD    0\n",
       "Weight_kg         5\n",
       "Price             0\n",
       "dtype: int64"
      ]
     },
     "execution_count": 17,
     "metadata": {},
     "output_type": "execute_result"
    }
   ],
   "source": [
    "# Evaluate for Missing Data:\n",
    "missing_data = df.isnull().sum()\n",
    "missing_data"
   ]
  },
  {
   "attachments": {},
   "cell_type": "markdown",
   "metadata": {},
   "source": [
    "**conclusion:** <br>\n",
    "Based on the summary above, each column has 238 rows of data and two of the columns containing missing data\n",
    "\n",
    "\"Weight_kg\":5 missing data  \"Screen_Size_cm:\" 4 missing data"
   ]
  },
  {
   "cell_type": "code",
   "execution_count": 26,
   "metadata": {},
   "outputs": [
    {
     "name": "stdout",
     "output_type": "stream",
     "text": [
      "1.86\n"
     ]
    }
   ],
   "source": [
    "# calculate the mean value of the \"Weight_kg\" columns:\n",
    "avg_weight = df['Weight_kg'].astype('float').mean(axis = 0)\n",
    "avg_weight = np.round(avg_weight,2)\n",
    "print(avg_weight)\n"
   ]
  },
  {
   "cell_type": "code",
   "execution_count": 27,
   "metadata": {},
   "outputs": [],
   "source": [
    "# Replace \"Nan\" with mean value in \"Weight kg\" column:\n",
    "df['Weight_kg'].replace(np.nan,avg_weight, inplace=True)"
   ]
  },
  {
   "cell_type": "code",
   "execution_count": 28,
   "metadata": {},
   "outputs": [],
   "source": [
    "# calculate the most common value in the \"Screen_Size_cm\" columns:\n",
    "common_screen_size = df['Screen_Size_cm'].value_counts().idxmax()\n"
   ]
  },
  {
   "cell_type": "code",
   "execution_count": 29,
   "metadata": {},
   "outputs": [],
   "source": [
    "# calculate the missing 'Screen_Size_cm' values by the most frequent:\n",
    "df['Screen_Size_cm'].replace(np.nan, common_screen_size, inplace = True)"
   ]
  },
  {
   "cell_type": "markdown",
   "metadata": {},
   "source": [
    "## 4. correct data format"
   ]
  },
  {
   "cell_type": "code",
   "execution_count": 30,
   "metadata": {},
   "outputs": [
    {
     "data": {
      "text/plain": [
       "Unnamed: 0          int64\n",
       "Manufacturer       object\n",
       "Category            int64\n",
       "Screen             object\n",
       "GPU                 int64\n",
       "OS                  int64\n",
       "CPU_core            int64\n",
       "Screen_Size_cm    float64\n",
       "CPU_frequency     float64\n",
       "RAM_GB              int64\n",
       "Storage_GB_SSD      int64\n",
       "Weight_kg         float64\n",
       "Price               int64\n",
       "dtype: object"
      ]
     },
     "execution_count": 30,
     "metadata": {},
     "output_type": "execute_result"
    }
   ],
   "source": [
    "# list of data type of each columns\n",
    "df.dtypes"
   ]
  },
  {
   "cell_type": "code",
   "execution_count": 32,
   "metadata": {},
   "outputs": [],
   "source": [
    "# Convert data types to proper format:\n",
    "df[['Screen_Size_cm','Weight_kg']] = df[['Screen_Size_cm','Weight_kg']].astype('float')\n"
   ]
  },
  {
   "cell_type": "code",
   "execution_count": 33,
   "metadata": {},
   "outputs": [
    {
     "data": {
      "text/plain": [
       "Unnamed: 0          int64\n",
       "Manufacturer       object\n",
       "Category            int64\n",
       "Screen             object\n",
       "GPU                 int64\n",
       "OS                  int64\n",
       "CPU_core            int64\n",
       "Screen_Size_cm    float64\n",
       "CPU_frequency     float64\n",
       "RAM_GB              int64\n",
       "Storage_GB_SSD      int64\n",
       "Weight_kg         float64\n",
       "Price               int64\n",
       "dtype: object"
      ]
     },
     "execution_count": 33,
     "metadata": {},
     "output_type": "execute_result"
    }
   ],
   "source": [
    "# check the result:\n",
    "df.dtypes"
   ]
  },
  {
   "cell_type": "markdown",
   "metadata": {},
   "source": [
    "## 5. Data Standardisation\n"
   ]
  },
  {
   "cell_type": "code",
   "execution_count": 34,
   "metadata": {},
   "outputs": [],
   "source": [
    "# Transform 'cm' to 'inch'  in column 'Screen_Size_cm\" (1 inch = 2.54 cm)\n",
    "\n",
    "df['Screen_Size_cm'] = df['Screen_Size_cm']/2.54"
   ]
  },
  {
   "cell_type": "code",
   "execution_count": 35,
   "metadata": {},
   "outputs": [],
   "source": [
    "# Rename the columns\n",
    "df.rename(columns = {'Screen_Size_cm': 'Screen_Size_inch'}, inplace = True)"
   ]
  },
  {
   "cell_type": "code",
   "execution_count": 36,
   "metadata": {},
   "outputs": [],
   "source": [
    "# Transform 'kg' to 'pounds' in columns \"Weight kg\" (1 kg = 2.205 pounds):\n",
    "df['Weight_kg'] = df['Weight_kg']*2.205"
   ]
  },
  {
   "cell_type": "code",
   "execution_count": 37,
   "metadata": {},
   "outputs": [],
   "source": [
    "# Rename the columns\n",
    "df.rename(columns={'Weight_kg':'Weight_pounds'}, inplace = True)"
   ]
  },
  {
   "cell_type": "code",
   "execution_count": 55,
   "metadata": {},
   "outputs": [],
   "source": [
    "# Update the \"Screen_Size_cm\" and \"Weight_pounds\" columns such that all values are rounded to nearest 2 decimal places \n",
    "screen_size = np.round(df[' Screen_Size_inch'],2)\n",
    "weight = np.round(df['Weight_pounds'],2)\n",
    "\n",
    "df['Screen_Size_inch'] = screen_size\n",
    "df['Weight_pounds'] = weight"
   ]
  },
  {
   "cell_type": "code",
   "execution_count": 57,
   "metadata": {},
   "outputs": [
    {
     "data": {
      "text/html": [
       "<div>\n",
       "<style scoped>\n",
       "    .dataframe tbody tr th:only-of-type {\n",
       "        vertical-align: middle;\n",
       "    }\n",
       "\n",
       "    .dataframe tbody tr th {\n",
       "        vertical-align: top;\n",
       "    }\n",
       "\n",
       "    .dataframe thead th {\n",
       "        text-align: right;\n",
       "    }\n",
       "</style>\n",
       "<table border=\"1\" class=\"dataframe\">\n",
       "  <thead>\n",
       "    <tr style=\"text-align: right;\">\n",
       "      <th></th>\n",
       "      <th>Unnamed: 0</th>\n",
       "      <th>Manufacturer</th>\n",
       "      <th>Category</th>\n",
       "      <th>Screen</th>\n",
       "      <th>GPU</th>\n",
       "      <th>OS</th>\n",
       "      <th>CPU_core</th>\n",
       "      <th>Screen_Size_inch</th>\n",
       "      <th>CPU_frequency</th>\n",
       "      <th>RAM_GB</th>\n",
       "      <th>Storage_GB_SSD</th>\n",
       "      <th>Weight_pounds</th>\n",
       "      <th>Price</th>\n",
       "      <th>Screen_Size_inch</th>\n",
       "    </tr>\n",
       "  </thead>\n",
       "  <tbody>\n",
       "    <tr>\n",
       "      <th>0</th>\n",
       "      <td>0</td>\n",
       "      <td>Acer</td>\n",
       "      <td>4</td>\n",
       "      <td>IPS Panel</td>\n",
       "      <td>2</td>\n",
       "      <td>1</td>\n",
       "      <td>5</td>\n",
       "      <td>14.0</td>\n",
       "      <td>1.6</td>\n",
       "      <td>8</td>\n",
       "      <td>256</td>\n",
       "      <td>3.53</td>\n",
       "      <td>978</td>\n",
       "      <td>14.0</td>\n",
       "    </tr>\n",
       "    <tr>\n",
       "      <th>1</th>\n",
       "      <td>1</td>\n",
       "      <td>Dell</td>\n",
       "      <td>3</td>\n",
       "      <td>Full HD</td>\n",
       "      <td>1</td>\n",
       "      <td>1</td>\n",
       "      <td>3</td>\n",
       "      <td>15.6</td>\n",
       "      <td>2.0</td>\n",
       "      <td>4</td>\n",
       "      <td>256</td>\n",
       "      <td>4.85</td>\n",
       "      <td>634</td>\n",
       "      <td>15.6</td>\n",
       "    </tr>\n",
       "    <tr>\n",
       "      <th>2</th>\n",
       "      <td>2</td>\n",
       "      <td>Dell</td>\n",
       "      <td>3</td>\n",
       "      <td>Full HD</td>\n",
       "      <td>1</td>\n",
       "      <td>1</td>\n",
       "      <td>7</td>\n",
       "      <td>15.6</td>\n",
       "      <td>2.7</td>\n",
       "      <td>8</td>\n",
       "      <td>256</td>\n",
       "      <td>4.85</td>\n",
       "      <td>946</td>\n",
       "      <td>15.6</td>\n",
       "    </tr>\n",
       "    <tr>\n",
       "      <th>3</th>\n",
       "      <td>3</td>\n",
       "      <td>Dell</td>\n",
       "      <td>4</td>\n",
       "      <td>IPS Panel</td>\n",
       "      <td>2</td>\n",
       "      <td>1</td>\n",
       "      <td>5</td>\n",
       "      <td>13.3</td>\n",
       "      <td>1.6</td>\n",
       "      <td>8</td>\n",
       "      <td>128</td>\n",
       "      <td>2.69</td>\n",
       "      <td>1244</td>\n",
       "      <td>13.3</td>\n",
       "    </tr>\n",
       "    <tr>\n",
       "      <th>4</th>\n",
       "      <td>4</td>\n",
       "      <td>HP</td>\n",
       "      <td>4</td>\n",
       "      <td>Full HD</td>\n",
       "      <td>2</td>\n",
       "      <td>1</td>\n",
       "      <td>7</td>\n",
       "      <td>15.6</td>\n",
       "      <td>1.8</td>\n",
       "      <td>8</td>\n",
       "      <td>256</td>\n",
       "      <td>4.21</td>\n",
       "      <td>837</td>\n",
       "      <td>15.6</td>\n",
       "    </tr>\n",
       "  </tbody>\n",
       "</table>\n",
       "</div>"
      ],
      "text/plain": [
       "   Unnamed: 0 Manufacturer  Category     Screen  GPU  OS  CPU_core  \\\n",
       "0           0         Acer         4  IPS Panel    2   1         5   \n",
       "1           1         Dell         3    Full HD    1   1         3   \n",
       "2           2         Dell         3    Full HD    1   1         7   \n",
       "3           3         Dell         4  IPS Panel    2   1         5   \n",
       "4           4           HP         4    Full HD    2   1         7   \n",
       "\n",
       "    Screen_Size_inch  CPU_frequency  RAM_GB  Storage_GB_SSD  Weight_pounds  \\\n",
       "0               14.0            1.6       8             256           3.53   \n",
       "1               15.6            2.0       4             256           4.85   \n",
       "2               15.6            2.7       8             256           4.85   \n",
       "3               13.3            1.6       8             128           2.69   \n",
       "4               15.6            1.8       8             256           4.21   \n",
       "\n",
       "   Price  Screen_Size_inch  \n",
       "0    978              14.0  \n",
       "1    634              15.6  \n",
       "2    946              15.6  \n",
       "3   1244              13.3  \n",
       "4    837              15.6  "
      ]
     },
     "execution_count": 57,
     "metadata": {},
     "output_type": "execute_result"
    }
   ],
   "source": [
    "# Check the transformed data\n",
    "df.head()"
   ]
  },
  {
   "cell_type": "markdown",
   "metadata": {},
   "source": [
    "## 6. Data Normalisation\n"
   ]
  },
  {
   "cell_type": "code",
   "execution_count": 59,
   "metadata": {},
   "outputs": [],
   "source": [
    "# Scale the column \"CPU_frequency\"\n",
    "df['CPU_frequency'] = df['CPU_frequency']/df['CPU_frequency'].max()"
   ]
  },
  {
   "cell_type": "code",
   "execution_count": 60,
   "metadata": {},
   "outputs": [],
   "source": [
    "# Update the CPU_frequency columns such that all values are rounded to nearest 2 decimal places:\n",
    "df[['CPU_frequency']] = np.round(df[['CPU_frequency']],2)"
   ]
  },
  {
   "cell_type": "code",
   "execution_count": 61,
   "metadata": {},
   "outputs": [
    {
     "data": {
      "text/html": [
       "<div>\n",
       "<style scoped>\n",
       "    .dataframe tbody tr th:only-of-type {\n",
       "        vertical-align: middle;\n",
       "    }\n",
       "\n",
       "    .dataframe tbody tr th {\n",
       "        vertical-align: top;\n",
       "    }\n",
       "\n",
       "    .dataframe thead th {\n",
       "        text-align: right;\n",
       "    }\n",
       "</style>\n",
       "<table border=\"1\" class=\"dataframe\">\n",
       "  <thead>\n",
       "    <tr style=\"text-align: right;\">\n",
       "      <th></th>\n",
       "      <th>CPU_frequency</th>\n",
       "    </tr>\n",
       "  </thead>\n",
       "  <tbody>\n",
       "    <tr>\n",
       "      <th>0</th>\n",
       "      <td>0.55</td>\n",
       "    </tr>\n",
       "    <tr>\n",
       "      <th>1</th>\n",
       "      <td>0.69</td>\n",
       "    </tr>\n",
       "    <tr>\n",
       "      <th>2</th>\n",
       "      <td>0.93</td>\n",
       "    </tr>\n",
       "    <tr>\n",
       "      <th>3</th>\n",
       "      <td>0.55</td>\n",
       "    </tr>\n",
       "    <tr>\n",
       "      <th>4</th>\n",
       "      <td>0.62</td>\n",
       "    </tr>\n",
       "  </tbody>\n",
       "</table>\n",
       "</div>"
      ],
      "text/plain": [
       "   CPU_frequency\n",
       "0           0.55\n",
       "1           0.69\n",
       "2           0.93\n",
       "3           0.55\n",
       "4           0.62"
      ]
     },
     "execution_count": 61,
     "metadata": {},
     "output_type": "execute_result"
    }
   ],
   "source": [
    "# check the normalised colums:\n",
    "df[['CPU_frequency']].head()"
   ]
  },
  {
   "attachments": {},
   "cell_type": "markdown",
   "metadata": {},
   "source": [
    "## 7. Binning\n"
   ]
  },
  {
   "cell_type": "code",
   "execution_count": 65,
   "metadata": {},
   "outputs": [
    {
     "data": {
      "text/plain": [
       "Text(0.5, 1.0, 'Price')"
      ]
     },
     "execution_count": 65,
     "metadata": {},
     "output_type": "execute_result"
    },
    {
     "data": {
      "image/png": "[encoded data removed]",
      "text/plain": [
       "<Figure size 640x480 with 1 Axes>"
      ]
     },
     "metadata": {},
     "output_type": "display_data"
    }
   ],
   "source": [
    "# Plot the histgram of \"Price\" Column to see what the  distribution looks like:\n",
    "plt.hist(df['Price'])\n",
    "plt.xlabel(\"Price\")\n",
    "plt.ylabel(\"count\")\n",
    "plt.title(\"Price\")\n"
   ]
  },
  {
   "cell_type": "code",
   "execution_count": 67,
   "metadata": {},
   "outputs": [
    {
     "data": {
      "text/plain": [
       "array([ 527.        , 1621.33333333, 2715.66666667, 3810.        ])"
      ]
     },
     "execution_count": 67,
     "metadata": {},
     "output_type": "execute_result"
    }
   ],
   "source": [
    "# Rearrange the values into three 'bins':\n",
    "bins = np.linspace(min(df['Price']),max(df['Price']), 4)\n",
    "bins"
   ]
  },
  {
   "cell_type": "code",
   "execution_count": 68,
   "metadata": {},
   "outputs": [],
   "source": [
    "# Set group names\n",
    "group_names =  ['Low','Medium','High']\n"
   ]
  },
  {
   "cell_type": "code",
   "execution_count": 69,
   "metadata": {},
   "outputs": [],
   "source": [
    "# Determines what each value of df['price'] belongs to:\n",
    "df['Price-binned'] = pd.cut(df['Price'], bins, labels = group_names, include_lowest=True)"
   ]
  },
  {
   "cell_type": "code",
   "execution_count": 70,
   "metadata": {},
   "outputs": [
    {
     "data": {
      "text/html": [
       "<div>\n",
       "<style scoped>\n",
       "    .dataframe tbody tr th:only-of-type {\n",
       "        vertical-align: middle;\n",
       "    }\n",
       "\n",
       "    .dataframe tbody tr th {\n",
       "        vertical-align: top;\n",
       "    }\n",
       "\n",
       "    .dataframe thead th {\n",
       "        text-align: right;\n",
       "    }\n",
       "</style>\n",
       "<table border=\"1\" class=\"dataframe\">\n",
       "  <thead>\n",
       "    <tr style=\"text-align: right;\">\n",
       "      <th></th>\n",
       "      <th>Price</th>\n",
       "      <th>Price-binned</th>\n",
       "    </tr>\n",
       "  </thead>\n",
       "  <tbody>\n",
       "    <tr>\n",
       "      <th>0</th>\n",
       "      <td>978</td>\n",
       "      <td>Low</td>\n",
       "    </tr>\n",
       "    <tr>\n",
       "      <th>1</th>\n",
       "      <td>634</td>\n",
       "      <td>Low</td>\n",
       "    </tr>\n",
       "    <tr>\n",
       "      <th>2</th>\n",
       "      <td>946</td>\n",
       "      <td>Low</td>\n",
       "    </tr>\n",
       "    <tr>\n",
       "      <th>3</th>\n",
       "      <td>1244</td>\n",
       "      <td>Low</td>\n",
       "    </tr>\n",
       "    <tr>\n",
       "      <th>4</th>\n",
       "      <td>837</td>\n",
       "      <td>Low</td>\n",
       "    </tr>\n",
       "  </tbody>\n",
       "</table>\n",
       "</div>"
      ],
      "text/plain": [
       "   Price Price-binned\n",
       "0    978          Low\n",
       "1    634          Low\n",
       "2    946          Low\n",
       "3   1244          Low\n",
       "4    837          Low"
      ]
     },
     "execution_count": 70,
     "metadata": {},
     "output_type": "execute_result"
    }
   ],
   "source": [
    "# Check the result\n",
    "df[['Price','Price-binned']].head(5)"
   ]
  },
  {
   "cell_type": "code",
   "execution_count": 71,
   "metadata": {},
   "outputs": [
    {
     "data": {
      "text/plain": [
       "Price-binned\n",
       "Low       160\n",
       "Medium     72\n",
       "High        6\n",
       "Name: count, dtype: int64"
      ]
     },
     "execution_count": 71,
     "metadata": {},
     "output_type": "execute_result"
    }
   ],
   "source": [
    "# check the number of values in each bin:\n",
    "df['Price-binned'].value_counts()\n"
   ]
  },
  {
   "attachments": {},
   "cell_type": "markdown",
   "metadata": {},
   "source": [
    "**Plot the bar graph of these bins**"
   ]
  },
  {
   "cell_type": "code",
   "execution_count": 82,
   "metadata": {},
   "outputs": [
    {
     "data": {
      "text/plain": [
       "Text(0.5, 1.0, 'Price bins')"
      ]
     },
     "execution_count": 82,
     "metadata": {},
     "output_type": "execute_result"
    },
    {
     "data": {
      "image/png": "[encoded data removed]",
      "text/plain": [
       "<Figure size 640x480 with 1 Axes>"
      ]
     },
     "metadata": {},
     "output_type": "display_data"
    }
   ],
   "source": [
    "# Plot the distribution of each bin:\n",
    "\n",
    "pyplot.bar(group_names, df[\"Price-binned\"].value_counts())\n",
    "plt.xlabel(\"Price\")\n",
    "plt.ylabel(\"count\")\n",
    "plt.title(\"Price bins\")"
   ]
  },
  {
   "cell_type": "markdown",
   "metadata": {},
   "source": [
    "## 8. Indicator variables"
   ]
  },
  {
   "cell_type": "code",
   "execution_count": 85,
   "metadata": {},
   "outputs": [
    {
     "data": {
      "text/html": [
       "<div>\n",
       "<style scoped>\n",
       "    .dataframe tbody tr th:only-of-type {\n",
       "        vertical-align: middle;\n",
       "    }\n",
       "\n",
       "    .dataframe tbody tr th {\n",
       "        vertical-align: top;\n",
       "    }\n",
       "\n",
       "    .dataframe thead th {\n",
       "        text-align: right;\n",
       "    }\n",
       "</style>\n",
       "<table border=\"1\" class=\"dataframe\">\n",
       "  <thead>\n",
       "    <tr style=\"text-align: right;\">\n",
       "      <th></th>\n",
       "      <th>Full HD</th>\n",
       "      <th>IPS Panel</th>\n",
       "    </tr>\n",
       "  </thead>\n",
       "  <tbody>\n",
       "    <tr>\n",
       "      <th>0</th>\n",
       "      <td>False</td>\n",
       "      <td>True</td>\n",
       "    </tr>\n",
       "    <tr>\n",
       "      <th>1</th>\n",
       "      <td>True</td>\n",
       "      <td>False</td>\n",
       "    </tr>\n",
       "    <tr>\n",
       "      <th>2</th>\n",
       "      <td>True</td>\n",
       "      <td>False</td>\n",
       "    </tr>\n",
       "    <tr>\n",
       "      <th>3</th>\n",
       "      <td>False</td>\n",
       "      <td>True</td>\n",
       "    </tr>\n",
       "    <tr>\n",
       "      <th>4</th>\n",
       "      <td>True</td>\n",
       "      <td>False</td>\n",
       "    </tr>\n",
       "    <tr>\n",
       "      <th>...</th>\n",
       "      <td>...</td>\n",
       "      <td>...</td>\n",
       "    </tr>\n",
       "    <tr>\n",
       "      <th>233</th>\n",
       "      <td>False</td>\n",
       "      <td>True</td>\n",
       "    </tr>\n",
       "    <tr>\n",
       "      <th>234</th>\n",
       "      <td>True</td>\n",
       "      <td>False</td>\n",
       "    </tr>\n",
       "    <tr>\n",
       "      <th>235</th>\n",
       "      <td>False</td>\n",
       "      <td>True</td>\n",
       "    </tr>\n",
       "    <tr>\n",
       "      <th>236</th>\n",
       "      <td>True</td>\n",
       "      <td>False</td>\n",
       "    </tr>\n",
       "    <tr>\n",
       "      <th>237</th>\n",
       "      <td>True</td>\n",
       "      <td>False</td>\n",
       "    </tr>\n",
       "  </tbody>\n",
       "</table>\n",
       "<p>238 rows × 2 columns</p>\n",
       "</div>"
      ],
      "text/plain": [
       "     Full HD  IPS Panel\n",
       "0      False       True\n",
       "1       True      False\n",
       "2       True      False\n",
       "3      False       True\n",
       "4       True      False\n",
       "..       ...        ...\n",
       "233    False       True\n",
       "234     True      False\n",
       "235    False       True\n",
       "236     True      False\n",
       "237     True      False\n",
       "\n",
       "[238 rows x 2 columns]"
      ]
     },
     "execution_count": 85,
     "metadata": {},
     "output_type": "execute_result"
    }
   ],
   "source": [
    "# Convert \"Screen\" to indicator variables and assign it to data \"Dummy_variable_1\"\n",
    "Dummy_variable_1 = pd.get_dummies(df['Screen'])\n",
    "Dummy_variable_1"
   ]
  },
  {
   "cell_type": "code",
   "execution_count": 86,
   "metadata": {},
   "outputs": [],
   "source": [
    "# change the columns  names of 'Full HD' 'IPS Panel'\n",
    "Dummy_variable_1.rename(columns={'IPS Panel':'Screen-IPS_panel','Full HD':'Screen-Full_HD'}, inplace = True)"
   ]
  },
  {
   "cell_type": "code",
   "execution_count": 87,
   "metadata": {},
   "outputs": [
    {
     "data": {
      "text/html": [
       "<div>\n",
       "<style scoped>\n",
       "    .dataframe tbody tr th:only-of-type {\n",
       "        vertical-align: middle;\n",
       "    }\n",
       "\n",
       "    .dataframe tbody tr th {\n",
       "        vertical-align: top;\n",
       "    }\n",
       "\n",
       "    .dataframe thead th {\n",
       "        text-align: right;\n",
       "    }\n",
       "</style>\n",
       "<table border=\"1\" class=\"dataframe\">\n",
       "  <thead>\n",
       "    <tr style=\"text-align: right;\">\n",
       "      <th></th>\n",
       "      <th>Screen-Full_HD</th>\n",
       "      <th>Screen-IPS_panel</th>\n",
       "    </tr>\n",
       "  </thead>\n",
       "  <tbody>\n",
       "    <tr>\n",
       "      <th>0</th>\n",
       "      <td>False</td>\n",
       "      <td>True</td>\n",
       "    </tr>\n",
       "    <tr>\n",
       "      <th>1</th>\n",
       "      <td>True</td>\n",
       "      <td>False</td>\n",
       "    </tr>\n",
       "    <tr>\n",
       "      <th>2</th>\n",
       "      <td>True</td>\n",
       "      <td>False</td>\n",
       "    </tr>\n",
       "    <tr>\n",
       "      <th>3</th>\n",
       "      <td>False</td>\n",
       "      <td>True</td>\n",
       "    </tr>\n",
       "    <tr>\n",
       "      <th>4</th>\n",
       "      <td>True</td>\n",
       "      <td>False</td>\n",
       "    </tr>\n",
       "  </tbody>\n",
       "</table>\n",
       "</div>"
      ],
      "text/plain": [
       "   Screen-Full_HD  Screen-IPS_panel\n",
       "0           False              True\n",
       "1            True             False\n",
       "2            True             False\n",
       "3           False              True\n",
       "4            True             False"
      ]
     },
     "execution_count": 87,
     "metadata": {},
     "output_type": "execute_result"
    }
   ],
   "source": [
    "# Check the result\n",
    "Dummy_variable_1.head()"
   ]
  },
  {
   "cell_type": "code",
   "execution_count": 90,
   "metadata": {},
   "outputs": [],
   "source": [
    "# Merge the data \"df\"  and \" dummy_variable_1\"\n",
    "df = pd.concat([df,Dummy_variable_1],axis = 1)"
   ]
  },
  {
   "cell_type": "code",
   "execution_count": 91,
   "metadata": {},
   "outputs": [],
   "source": [
    "# Drop original column \"Screen\" from df\n",
    "df.drop(\"Screen\",axis = 1, inplace = True)"
   ]
  },
  {
   "cell_type": "code",
   "execution_count": 94,
   "metadata": {},
   "outputs": [
    {
     "data": {
      "text/html": [
       "<div>\n",
       "<style scoped>\n",
       "    .dataframe tbody tr th:only-of-type {\n",
       "        vertical-align: middle;\n",
       "    }\n",
       "\n",
       "    .dataframe tbody tr th {\n",
       "        vertical-align: top;\n",
       "    }\n",
       "\n",
       "    .dataframe thead th {\n",
       "        text-align: right;\n",
       "    }\n",
       "</style>\n",
       "<table border=\"1\" class=\"dataframe\">\n",
       "  <thead>\n",
       "    <tr style=\"text-align: right;\">\n",
       "      <th></th>\n",
       "      <th>Unnamed: 0</th>\n",
       "      <th>Manufacturer</th>\n",
       "      <th>Category</th>\n",
       "      <th>GPU</th>\n",
       "      <th>OS</th>\n",
       "      <th>CPU_core</th>\n",
       "      <th>Screen_Size_inch</th>\n",
       "      <th>CPU_frequency</th>\n",
       "      <th>RAM_GB</th>\n",
       "      <th>Storage_GB_SSD</th>\n",
       "      <th>Weight_pounds</th>\n",
       "      <th>Price</th>\n",
       "      <th>Screen_Size_inch</th>\n",
       "      <th>Price-binned</th>\n",
       "      <th>Screen-Full_HD</th>\n",
       "      <th>Screen-IPS_panel</th>\n",
       "    </tr>\n",
       "  </thead>\n",
       "  <tbody>\n",
       "    <tr>\n",
       "      <th>0</th>\n",
       "      <td>0</td>\n",
       "      <td>Acer</td>\n",
       "      <td>4</td>\n",
       "      <td>2</td>\n",
       "      <td>1</td>\n",
       "      <td>5</td>\n",
       "      <td>14.0</td>\n",
       "      <td>0.55</td>\n",
       "      <td>8</td>\n",
       "      <td>256</td>\n",
       "      <td>3.53</td>\n",
       "      <td>978</td>\n",
       "      <td>14.0</td>\n",
       "      <td>Low</td>\n",
       "      <td>False</td>\n",
       "      <td>True</td>\n",
       "    </tr>\n",
       "    <tr>\n",
       "      <th>1</th>\n",
       "      <td>1</td>\n",
       "      <td>Dell</td>\n",
       "      <td>3</td>\n",
       "      <td>1</td>\n",
       "      <td>1</td>\n",
       "      <td>3</td>\n",
       "      <td>15.6</td>\n",
       "      <td>0.69</td>\n",
       "      <td>4</td>\n",
       "      <td>256</td>\n",
       "      <td>4.85</td>\n",
       "      <td>634</td>\n",
       "      <td>15.6</td>\n",
       "      <td>Low</td>\n",
       "      <td>True</td>\n",
       "      <td>False</td>\n",
       "    </tr>\n",
       "    <tr>\n",
       "      <th>2</th>\n",
       "      <td>2</td>\n",
       "      <td>Dell</td>\n",
       "      <td>3</td>\n",
       "      <td>1</td>\n",
       "      <td>1</td>\n",
       "      <td>7</td>\n",
       "      <td>15.6</td>\n",
       "      <td>0.93</td>\n",
       "      <td>8</td>\n",
       "      <td>256</td>\n",
       "      <td>4.85</td>\n",
       "      <td>946</td>\n",
       "      <td>15.6</td>\n",
       "      <td>Low</td>\n",
       "      <td>True</td>\n",
       "      <td>False</td>\n",
       "    </tr>\n",
       "    <tr>\n",
       "      <th>3</th>\n",
       "      <td>3</td>\n",
       "      <td>Dell</td>\n",
       "      <td>4</td>\n",
       "      <td>2</td>\n",
       "      <td>1</td>\n",
       "      <td>5</td>\n",
       "      <td>13.3</td>\n",
       "      <td>0.55</td>\n",
       "      <td>8</td>\n",
       "      <td>128</td>\n",
       "      <td>2.69</td>\n",
       "      <td>1244</td>\n",
       "      <td>13.3</td>\n",
       "      <td>Low</td>\n",
       "      <td>False</td>\n",
       "      <td>True</td>\n",
       "    </tr>\n",
       "    <tr>\n",
       "      <th>4</th>\n",
       "      <td>4</td>\n",
       "      <td>HP</td>\n",
       "      <td>4</td>\n",
       "      <td>2</td>\n",
       "      <td>1</td>\n",
       "      <td>7</td>\n",
       "      <td>15.6</td>\n",
       "      <td>0.62</td>\n",
       "      <td>8</td>\n",
       "      <td>256</td>\n",
       "      <td>4.21</td>\n",
       "      <td>837</td>\n",
       "      <td>15.6</td>\n",
       "      <td>Low</td>\n",
       "      <td>True</td>\n",
       "      <td>False</td>\n",
       "    </tr>\n",
       "  </tbody>\n",
       "</table>\n",
       "</div>"
      ],
      "text/plain": [
       "   Unnamed: 0 Manufacturer  Category  GPU  OS  CPU_core   Screen_Size_inch  \\\n",
       "0           0         Acer         4    2   1         5               14.0   \n",
       "1           1         Dell         3    1   1         3               15.6   \n",
       "2           2         Dell         3    1   1         7               15.6   \n",
       "3           3         Dell         4    2   1         5               13.3   \n",
       "4           4           HP         4    2   1         7               15.6   \n",
       "\n",
       "   CPU_frequency  RAM_GB  Storage_GB_SSD  Weight_pounds  Price  \\\n",
       "0           0.55       8             256           3.53    978   \n",
       "1           0.69       4             256           4.85    634   \n",
       "2           0.93       8             256           4.85    946   \n",
       "3           0.55       8             128           2.69   1244   \n",
       "4           0.62       8             256           4.21    837   \n",
       "\n",
       "   Screen_Size_inch Price-binned  Screen-Full_HD  Screen-IPS_panel  \n",
       "0              14.0          Low           False              True  \n",
       "1              15.6          Low            True             False  \n",
       "2              15.6          Low            True             False  \n",
       "3              13.3          Low           False              True  \n",
       "4              15.6          Low            True             False  "
      ]
     },
     "execution_count": 94,
     "metadata": {},
     "output_type": "execute_result"
    }
   ],
   "source": [
    "# check the result\n",
    "df.head()"
   ]
  },
  {
   "cell_type": "code",
   "execution_count": 95,
   "metadata": {},
   "outputs": [],
   "source": [
    "# Save the file\n",
    "df.to_csv('laptop_price_cleaned.csv')"
   ]
  },
  {
   "cell_type": "code",
   "execution_count": null,
   "metadata": {},
   "outputs": [],
   "source": []
  }
 ],
 "metadata": {
  "kernelspec": {
   "display_name": "base",
   "language": "python",
   "name": "python3"
  },
  "language_info": {
   "codemirror_mode": {
    "name": "ipython",
    "version": 3
   },
   "file_extension": ".py",
   "mimetype": "text/x-python",
   "name": "python",
   "nbconvert_exporter": "python",
   "pygments_lexer": "ipython3",
   "version": "3.11.5"
  },
  "orig_nbformat": 4
 },
 "nbformat": 4,
 "nbformat_minor": 2
}
